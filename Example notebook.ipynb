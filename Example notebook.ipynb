{
 "cells": [
  {
   "cell_type": "markdown",
   "metadata": {},
   "source": [
    "# Example Notebook\n",
    "\n",
    "* Before running, follow the set up steps from the README and make sure you have edited the file `config.txt` and moved it to `/etc/` (or your chosen location and change the code in `scraper.py` and `data_loader.py`)."
   ]
  },
  {
   "cell_type": "code",
   "execution_count": 1,
   "metadata": {
    "collapsed": true
   },
   "outputs": [],
   "source": [
    "%load_ext autoreload"
   ]
  },
  {
   "cell_type": "code",
   "execution_count": 2,
   "metadata": {
    "collapsed": false
   },
   "outputs": [],
   "source": [
    "%autoreload 2"
   ]
  },
  {
   "cell_type": "code",
   "execution_count": 3,
   "metadata": {
    "collapsed": false
   },
   "outputs": [],
   "source": [
    "from data_loader import Data_Loader\n",
    "from data_viewer import Data_Viewer\n",
    "from annotator import Annotator\n",
    "import time"
   ]
  },
  {
   "cell_type": "markdown",
   "metadata": {},
   "source": [
    "# Scraping data"
   ]
  },
  {
   "cell_type": "code",
   "execution_count": 4,
   "metadata": {
    "collapsed": true
   },
   "outputs": [],
   "source": [
    "# A list of urls that of submissions that you want to add to your graph. \n",
    "# These should be top level posts (not links to comments)\n",
    "submissions = ['https://www.reddit.com/r/sanfrancisco/comments/7r3cy3/how_the_san_francisco_school_lottery_works_and/']\n",
    "# Below is the full list of submissions I'm currently using for the school choice project\n",
    "# submissions = [\n",
    "#     'https://www.reddit.com/r/sanfrancisco/comments/bs5f69/just_had_the_elementary_school_lottery_explained/',\n",
    "#     'https://www.reddit.com/r/sanfrancisco/comments/7r3cy3/how_the_san_francisco_school_lottery_works_and/',\n",
    "#     'https://www.reddit.com/r/sanfrancisco/comments/4ah4no/fuck_the_sf_school_lottery_thats_all/',\n",
    "#     'https://www.reddit.com/r/sanfrancisco/comments/b5kbse/how_the_student_assignment_system_works_sfusd/',\n",
    "#     'https://www.reddit.com/r/sanfrancisco/comments/9hh9z8/two_sf_school_board_members_to_introduce/',\n",
    "#     'https://www.reddit.com/r/sanfrancisco/comments/4646v8/experience_with_enrolling_in_sfusd_school/',\n",
    "#     'https://www.reddit.com/r/sanfrancisco/comments/a5nrej/sf_school_board_plans_to_replace_muchcriticized/',\n",
    "#     'https://www.reddit.com/r/sanfrancisco/comments/bhcxhb/san_francisco_had_an_ambitious_plan_to_tackle/',\n",
    "#     'https://www.reddit.com/r/sanfrancisco/comments/5e5834/i_made_a_website_of_sf_elementary_school_test/',\n",
    "#     'https://www.reddit.com/r/sanfrancisco/comments/cg5coh/sfusd_kindergarten/'\n",
    "# ]"
   ]
  },
  {
   "cell_type": "markdown",
   "metadata": {},
   "source": [
    "We now create `dl`, the `Data_Loader` object. The constructor creates a connection to the database and also creates a `Scraper` object which connects to the Reddit API. The Neo4j database should be running and the credentials file needs to be set up correctly for this to run."
   ]
  },
  {
   "cell_type": "code",
   "execution_count": 5,
   "metadata": {
    "collapsed": false
   },
   "outputs": [],
   "source": [
    "dl = Data_Loader()"
   ]
  },
  {
   "cell_type": "code",
   "execution_count": 6,
   "metadata": {
    "collapsed": false
   },
   "outputs": [],
   "source": [
    "dl.clear_graph()"
   ]
  },
  {
   "cell_type": "code",
   "execution_count": 7,
   "metadata": {
    "collapsed": false
   },
   "outputs": [
    {
     "name": "stdout",
     "output_type": "stream",
     "text": [
      "Adding submission: https://www.reddit.com/r/sanfrancisco/comments/7r3cy3/how_the_san_francisco_school_lottery_works_and/\n",
      "Submission 7r3cy3 and 32 comments added in 9.3500s\n"
     ]
    }
   ],
   "source": [
    "dl.load_submissions(submissions)"
   ]
  },
  {
   "cell_type": "markdown",
   "metadata": {},
   "source": [
    "# Querying and coding"
   ]
  },
  {
   "cell_type": "markdown",
   "metadata": {},
   "source": [
    "To query and view our data, we use a `Data_Viewer`"
   ]
  },
  {
   "cell_type": "code",
   "execution_count": 8,
   "metadata": {
    "collapsed": true
   },
   "outputs": [],
   "source": [
    "dv = Data_Viewer()"
   ]
  },
  {
   "cell_type": "markdown",
   "metadata": {},
   "source": [
    "For example, we can query a submission based on an id:"
   ]
  },
  {
   "cell_type": "code",
   "execution_count": 9,
   "metadata": {
    "collapsed": false
   },
   "outputs": [
    {
     "name": "stdout",
     "output_type": "stream",
     "text": [
      "[Submission 7r3cy3]\n",
      " bloobityblurp: How the San Francisco School Lottery Works, And How It Doesn’t (https://ww2.kqed.org/news/2018/01/11/how-the-san-francisco-school-lottery-works-and-how-it-doesnt-2/) \n",
      " \n",
      "\n",
      "[Comment dstxpky -> Submission 7r3cy3] SFCitizenDotCom: You're not supposed to try to \"game\" the system, you're supposed to put schools down what are your preferences. If you have unrealistic choices, you shouldn't be \"shocked\" when you don't get them. \n",
      "\n",
      "[Comment dsu21u7 -> Comment dstxpky | Submission 7r3cy3]\n",
      "nlcund: Some years ago they made it strategy-free on the recommendation of a consultant from Stanford.  The original problem was that parents could only list six schools, so they would typically list the \"best\" schools (highest test scores) and fail, or try to add a few \"safe\" schools at the bottom of the list.  There were a lot of urban legends, such as listing the same school six times.\n",
      "\n",
      "Now parents can list all the schools in the order they want (their true ranking) without affecting their chances either way.  It's a bit laborious though.  \n",
      "\n",
      "[Comment dsudp4a -> Comment dsu21u7 | Submission 7r3cy3]\n",
      "cardifan: Since I didn't want one of the popular schools, I listed the six schools I wanted first and then backfilled my list with the popular schools in order of wait pool numbers, highest to lowest. \n",
      "\n",
      "I was fairly confident I'd get my #1 school as it's my AA and never has a wait pool. The popular schools for swap value was basically my insurance policy.\n",
      "\n",
      "[Comment dsuioqn -> Submission 7r3cy3] yaaaaayPancakes: After reading through that, it seems like one thing that would help everyone involved is better access to school data to make choices during the lottery rounds. They ought to build a website that indexes all the school data so parents can access it easily, anytime.\n",
      "\n",
      "[Comment dsu63bh -> Submission 7r3cy3] redditeyedoc: What a retarded system \n",
      "\n",
      "[Comment dsufwc2 -> Comment dsu63bh | Submission 7r3cy3]\n",
      "santacruisin: An alumni of one of the poor-performing schools. \n",
      "\n",
      "[Comment dsus07y -> Submission 7r3cy3] ispeakdatruf: I'll just reply at the top level, as there's a lot of misinformation in this thread. \n",
      "\n",
      "First of all: SFUSD severely underpays its teachers. That's not Sacramento's fault; for if it was, teachers in other school districts would be underpaid too.\n",
      "\n",
      "Here's SFUSD and nearby USD teacher salary averages, from [this report by Cal Dept of Education](https://www.cde.ca.gov/ds/fd/cs/documents/j90summary1617.pdf) (PDF) . It's painful to cut-n-paste from the PDF, so I copied just a few to make my point:\n",
      "\n",
      "District | FTE| Lowest Salary | Average salary | Highest salary | Attendance\n",
      ":--|:--|:--|:--|:--|:--\n",
      "SFUSD| 3,652.82 | 45,658 | 71,563 | 93,655 | 50,599.70 \n",
      "FREMONT | 1,715.79 | 65,398 | 89,145 | 114,623 | 34,161.17 \n",
      "FRESNO | 3,693.15  | 42,798 | 74,719 | 99,861 | 66,713.70 \n",
      "SOUTH SAN FRANCISCO | 478.34 | 52,330 | 73,995 | 97,488 | 8,474.11 \n",
      "MILPITAS | 475.80 | 56,833 | 84,981 | 108,905 | 10,082.30 \n",
      "PALO ALTO | 847.39 | 63,197 | 106,088 | 127,517 | 11,284.80 \n",
      "SANTA CLARA | 883.18  | 66,873 | 100,971 | 119,850 | 14,699.80 \n",
      "\n",
      "As a good teacher, why would you come to SFUSD when you can go to, say, Palo Alto and make a lot more? San Francisco's budget is bigger than many other states; surely we can find the money to pay our teachers more? \n",
      "\n",
      "[Comment dsv5qrz -> Comment dsus07y | Submission 7r3cy3]\n",
      "ajw204: I’ve been told by teachers in SFUSD to leave and teach elsewhere. Things haven’t gotten any better since I grew up here. Class sizes are bigger, everything is stretched too thin. I don’t want to, because I care about the community, but I might have to just to survive. \n",
      "\n",
      "[Comment dsu54w9 -> Submission 7r3cy3] ispeakdatruf: Once again, SFUSD is more interested in fucking up kids' lives in the name of \"diversity\" than actually giving them an education.  Who benefits from making parents lug their kids across town daily to school? Not the kids. Not the parents.\n",
      "\n",
      "Children learn better when they live near school, and their neighbors attend the same school as them.  Wasting time commuting to a school is that: time wasted. If a school isn't doing well, **then fix that fucking school!** \n",
      "\n",
      "No wonder a majority of the parents send their kids to private schools, because the SFUSD fuckers sure ain't interested in educating kids!\n",
      "\n",
      "[Comment dsuj1ga -> Comment dsu54w9 | Submission 7r3cy3]\n",
      "hokeyphenokey: There are lots of good parents who really care about their child's education and could not possibly send their kids to a bad neighborhood School. There are actually quite a few good schools around town, and there are lots of good parents around town. But they are *around town*.\n",
      "\n",
      "The school referenced in the article is Rooftop School. I'm 42 years old, and that was the number one most popular school when I was 5 years old. Everyone wants to go there. It would not be fair if only people that lived in Twin Peaks got to go there.\n",
      "\n",
      "Likewise it would suck if I lived in the Portola and my kid ended up in a Bayview School.\n",
      "\n",
      "Also, this is a legacy of court-ordered integration from the 70s. Like was referenced above, parents didn't want their kids going to certain bad neighborhood schools. The court-ordered integration was sending kids from good neighborhoods too bad neighborhoods. Those parents really put up a stink. The lottery was the only way around it. You may not get the school you want, but you definitely could stay away from the school you didn't want.\n",
      "\n",
      "They may be able to improve the lottery, but it's not going away because it can't go away.\n",
      "\n",
      "Also \"fix that school\". That is 90% up to the parents. Parents who read to their children, parents to help them with their homework, parents who show up at the PTA meeting and even help out sometimes. You should see the difference between a bad school and rooftop. It's not that the teachers Care More at rooftop. It's that the parents help more.\n",
      "\n",
      "\n",
      "\n",
      "[Comment dsuj9b2 -> Comment dsuj1ga | Submission 7r3cy3]\n",
      "ispeakdatruf: Problem is, the lottery is random. Human beings can't handle randomness; it adds a lot of stress. Why subject parents to the uncertainty, and the kids to long commutes? For what purpose? The stated purpose (of lifting the education scores of underprivileged kids) *isn't working anyways!* Why are they compounding the mistake and making things worse?\n",
      "\n",
      "[Comment dsujh1g -> Comment dsuj9b2 | Submission 7r3cy3]\n",
      "hokeyphenokey: The lottery is absolutely not random. I mean, did you read the article? It is not a true Lottery. It is weighted in many different ways.\n",
      "\n",
      "Also, you may not get to school you want, but you absolutely will not be forced into a school that you don't want.\n",
      "\n",
      "And if you keep at it, in a year or two you *will* get the school you want. By that time your kid might be happy where he is, maybe not.\n",
      "\n",
      "Source: was a student, have two nephews, know many sf public school families and teachers.\n",
      "\n",
      "\n",
      "[Comment dsus810 -> Comment dsujh1g | Submission 7r3cy3]\n",
      "ispeakdatruf: > The lottery is absolutely not random.\n",
      "\n",
      "If there's a (random) chance that you won't get your first preference, then the lottery *is* random. \n",
      "\n",
      "[Comment dsusvj0 -> Comment dsus810 | Submission 7r3cy3]\n",
      "hokeyphenokey: Again, the chance of either outcome is not random. If you win, you won on a weighted scale. If you lose, you lost on a weighted scale. *Not random.*\n",
      "\n",
      "[Comment dsut61n -> Comment dsusvj0 | Submission 7r3cy3]\n",
      "ispeakdatruf: There are 2 possibilities: deterministic, and non-deterministic.\n",
      "\n",
      "If the chances of getting your school are determined by other, unknown factors like the CTIP bullshit, then it is not deterministic.\n",
      "\n",
      "[Comment dsu8itp -> Comment dsu54w9 | Submission 7r3cy3]\n",
      "ultralame: > then fix that fucking school!\n",
      "\n",
      "So simple! why don't you  explain how to do this?  You'd win a Nobel prize.\n",
      "\n",
      "Not that I disagree with your solution though.  The lottery is kinda useless.  If we assigned based on local school, we'd have what we have in the burbs... the homes in desirable school zones would skyrocket.  And parents with money would afford to live there and send their kids there.\n",
      "\n",
      "And what's the #1 correlation for how well kids do in school?  How well educated their parents are.  And of course, that also correlates to how much they earn... and in the US, how much you earn correlates to race.\n",
      "\n",
      "So we'll just end up with poor parents, who *statistically* have lower performing kids, concentrated in the cheaper parts of the city.\n",
      "\n",
      "**But that's essentially what we have now**.  Parents with money are educated and work hard to get their kids in the schools they think are good.  The lottery for those schools are overwhelmed with those kids, and the final lottery assignment shows it.\n",
      "\n",
      "Parents who don't care about school (statistically poor), and parents who might care but are too poor to be able to get their kids two neighborhoods over?  They get assigned nearby anyway- either because it's convenient or because they have no choice.  And now those kids are concentrated in a \"bad school\".\n",
      "\n",
      "My ultimate point is that it's either gonna be the lottery or how much home you can afford that determines where you go, but the demographics aren't going to change much.  The lottery is at least *a little* more egalitarian, and gives a few kids in bad areas a chance to get into a school with a more studious population.  And you aren't going to fix a bad school in this city without swapping the kids out of it.  When you concentrate kids from families that aren't educated, you get a lower performing school.  That's all there is to it.\n",
      "\n",
      "[Comment dsufkfk -> Comment dsu8itp | Submission 7r3cy3]\n",
      "NotheBrain: Tell that to the kid that got placed at a school 40 min away since they didn't test quite well enough to get into a school in their neighborhood, but checked all the boxes to add diversity and raise average test scores at one of (if not the worst school) in the City.\n",
      "\n",
      "So the kid had a 1 1/2 hr commute mainly on MUNI since both parents have to work, and there was no way they could drive their child across town since they don't own a car.\n",
      "\n",
      "Then add on that they were relentlessly bullied at the school across town until their parents put them in private school at great expense.\n",
      "\n",
      " It's better than their child being attacked and the school administrators doing nothing or blaming the child for \"Attracting Negative Attention\"...\n",
      "\n",
      "\n",
      "\n",
      "[Comment dsug1cu -> Comment dsufkfk | Submission 7r3cy3]\n",
      "ultralame: Holy shit!  Someone had a really bad experience with this system?!  Well, we had better re-tool the whole thing.  What's that?  Lots of other kids who might be placed at decent schools outside their neighborhood will end up at those shitty schools nearby and be relentlessly bullied too?  Ah, well fuck them because you had a horror story about some kid.\n",
      "\n",
      "There will always be horror stories, there will always be problems.  No solution is perfect.  I feel terrible for families like the one you described, but there will be plenty of families to feel sorry for with any solution.\n",
      "\n",
      "Having a neighborhood centric system works for some families, not for others.  The lottery works for some, not for others.  If you can design a system that works for everyone (that doesn't involve magically having more money- which actually would solve a lot of these problems), I am all for it.  Until then it's not helpful to post a horror story- especially when it's obvious there would be an equivalent story with any system they try to implement.\n",
      "\n",
      "EDIT:  Also, WTF?\n",
      "\n",
      "> Tell that to the kid that got placed at a school 40 min away since they didn't test quite well enough to get into a school in their neighborhood\n",
      "\n",
      "As far as I know, there's no testing requirement for any except two specific high schools in the city (Lowell and SOTA).\n",
      "\n",
      "[Comment dsulam7 -> Comment dsug1cu | Submission 7r3cy3]\n",
      "NotheBrain: I sure am glad that someone finally admits that it is fine to sacrifice certain kids and drive them out of the SFUSD in order to make an administrators metrics.\n",
      "\n",
      "[Comment dsujj2k -> Comment dsu8itp | Submission 7r3cy3]\n",
      "ispeakdatruf: > So simple! why don't you explain how to do this? You'd win a Nobel prize.\n",
      "\n",
      "If only the bar to a Nobel was this fucking low.\n",
      "\n",
      "Add more teachers in underperforming schools. Add social workers to work with the parents. Cut out the administrative bloat (SFUSD wants to pay the administrative staff top dollar; but teachers? Nope!), and use the savings to pay teachers more. Are you telling me that there is no school in this country where poor kids do well? Of course not.  But this lottery system is just a means to hide their incompetence. Despite it, things are not working!\n",
      "\n",
      "I grew up in an area where most of my classmates lived nearby, and my commute was like 10 minutes. Guess what? It was so much fun. I bet if I had been bussed an hour away each day, to attend a school where I knew no one, I would've been miserable and my grades would have suffered.\n",
      "\n",
      "[Comment dsukytz -> Comment dsujj2k | Submission 7r3cy3]\n",
      "ultralame: >Are you telling me that there is no school in this country where poor kids do well?\n",
      "\n",
      "No, there are exceptions. Always are. But statistically, poor kids do worse. Much worse.\n",
      "\n",
      "Everything you suggested costs a lot of money. Cutting admin staff won't make up for the things you want, let alone paying teachers more. Take it up with Sacramento and city hall. SFUSD is about average for CA, which is about average for the country, which is about 1/2 what NY and NJ spend per student.\n",
      "\n",
      "Also, speak for yourself. I lived in the countryside and had almost an hour on the school bus each way (picked up at 7am to arrive a little before 8. Yet somehow I managed to do extremely well in school and not be miserable.  Same for my brother and a ton of kids out there. Oh, and which kids did best in school? The kids from professional, educated parents.  The poor kids? Same problems they have here... Even though race wasn't a factor there. Same teachers. Same classrooms.\n",
      "\n",
      "The idea that the lottery is there to cover up anything is silly. Over and over they have tried different assignment systems to solve different problems, and there's always something. The lottery, as much as some people hate it, solves a lot of problems. I'm not claiming there isn't a better system, but each system has its own serious problems.\n",
      "\n",
      "[Comment dsuydrv -> Submission 7r3cy3] Ohyoudidntknowftt: My younger brother and I lived on the edge of outer sunset and his best choice was Burton. I drove him for a while, but those 35-45 minute commutes during rush hour was too much. Gas wasn't cheap too.  So yeah I stopped driving him and he started taking the bus and became truant for most of HS as a result because it'd take him over an hour to take two bus while 3 high schools were less than 10 minutes away. \n",
      "\n",
      "[Comment dsubxm7 -> Submission 7r3cy3] dockingnow: \"In many places around the country, where a child lives determines where he or she goes to school. San Francisco doesn’t do that because of segregated housing patterns. Creating diverse schools is a district goal.\"\n",
      "\n",
      "I wish NPR went into more detail about this. But basically all the poor kids (mostly black and hispanics) were attending high school A, B, and C while the middle and upper class kids (mostly asians and whites) went to high school D, E, F, and G. A, B, and C were under performing and lacking in resources. The school district wanted to offer these low income students more opportunities and so the lottery system came into place. The lottery is not perfect, but I understand the purpose of it. \n",
      "\n",
      "[Comment dsuqip6 -> Comment dsubxm7 | Submission 7r3cy3]\n",
      "ispeakdatruf: > A, B, and C were under performing and lacking in resources. The school district wanted to offer these low income students more opportunities and so the lottery system came into place. The lottery is not perfect, but I understand the purpose of it. \n",
      "\n",
      "Please, please tell me how the lottery helps with lack of resources.\n",
      "\n",
      "[Comment dsuqgvc -> Comment dsubxm7 | Submission 7r3cy3]\n",
      "NotheBrain: Parents at schools D,E,F,and G support their children's schools.\n",
      "\n",
      " Parents at schools A,B,and C expect schools to support their children.\n",
      "\n",
      "[Comment dsuvc7v -> Comment dsubxm7 | Submission 7r3cy3]\n",
      "justageek: All the lottery does is incentivize every parent who can afford to do so, to send their kids to private school. And the ones who can't afford it, just move out of the city.\n",
      "\n",
      "[Comment dsvij6r -> Comment dsuvc7v | Submission 7r3cy3]\n",
      "LiverpoolLOLs: So, there's no kids in our schools?  ;)\n",
      "\n",
      "[Comment dsvhtp1 -> Submission 7r3cy3] seancarter90: I can't believe this is still going on. This happened to me when I was in middle school 15 years ago. Graduated from Presidio in 2004 and got sent to Galileo instead of Washington, even though I lived literally 10 blocks away from Washington. Made it through 9th grade, but my parents pulled me out in 10th grade and sent me to private school because the commute was just too much. It was expensive as hell and our quality of life definitely went down so that they could foot the bill, but I wound up at a good university (top 25 in the US) so it was worth it and I'm thankful for it. \n",
      "\n",
      "This whole plan is a total load of bullshit. The kids that would otherwise go to \"good\" schools in their neighborhoods suffer because parents in other parts of town don't know how to raise their kids (or are too busy doing drugs to do so) so the city tries to make up for it by making all schools mediocre. \n",
      "\n",
      "It's no surprise that the quality of some of these schools, like Presidio and Washington, seriously declined after this program was put into effect. You can bus kids from Hunter's Point to the Richmond district, but it doesn't mean that they'll do better. They'll just drag the other schools and kids that go there down with them.\n",
      "\n",
      "[Comment dsu4rx9 -> Submission 7r3cy3] scopa0304: The fact that your attendance area is a tie breaker is great. We listed our neighborhood school #1 and got in. The fact that there was even a slight chance we might not get in was ridiculous. I wish attendance area was the second tie breaker instead of the third. \n",
      "\n",
      "I hope the sibling tie breaker is as much of a lock as people say.\n",
      "\n",
      "I am not looking forward to the high school lottery.\n",
      "\n",
      "[Comment dstxgk7 -> Submission 7r3cy3] Kache: Of course parents would want to get the most value out of their school. Is there any data on whether or not this system successfully inventivizes that people decide to fund all the schools equally well? Has the difference in quality between them decreased over time? And finally, how much have poor schools improved, compared to how much better schools may have regressed?\n",
      "\n",
      "[Comment dsu26tp -> Comment dstxgk7 | Submission 7r3cy3]\n",
      "nlcund: They're all funded by the same formula.  The same teachers and administrators rotate around to different schools as well.\n",
      "\n",
      "[Comment dstzrg6 -> Submission 7r3cy3] mrmagcore: I'm a millionaire, but I live in a CTIP block.  That's San Francisco for you. \n"
     ]
    }
   ],
   "source": [
    "print(dv.view_submission(\"7r3cy3\", include_comments = True))"
   ]
  },
  {
   "cell_type": "markdown",
   "metadata": {},
   "source": [
    "Then, to add codes to our data, we use the `Annotator.annotate()` method. Codes should be formatted: \"code1: subcode1: subcodesubcode1; code2: subcode2; code3\" and so on. The annotator needs to know the id and type of the content node you're annotating as well as the specific substring you'd like to code."
   ]
  },
  {
   "cell_type": "code",
   "execution_count": 10,
   "metadata": {
    "collapsed": true
   },
   "outputs": [],
   "source": [
    "a = Annotator()"
   ]
  },
  {
   "cell_type": "code",
   "execution_count": 11,
   "metadata": {
    "collapsed": false
   },
   "outputs": [],
   "source": [
    "a.annotate(code = \"strategy\", \n",
    "           content_id = \"dstxpky\", \n",
    "           content_type = \"Comment\", \n",
    "           content = \"You're not supposed to try to \\\"game\\\" the system\")"
   ]
  },
  {
   "cell_type": "code",
   "execution_count": 12,
   "metadata": {
    "collapsed": false
   },
   "outputs": [],
   "source": [
    "a.annotate(code = \"algorithmic theories: popular schools harder to get; strategy\",\n",
    "           content_id = \"dsu21u7\",\n",
    "           content_type = \"Comment\",\n",
    "           content = \"The original problem was that parents could only list six schools, so they would typically list the \\\"best\\\" schools (highest test scores) and fail, or try to add a few \\\"safe\\\" schools at the bottom of the list.\"\n",
    ")"
   ]
  },
  {
   "cell_type": "markdown",
   "metadata": {},
   "source": [
    "We can now view the content that has been coded with the label \"strategy\", with text highlighting to show the annotated substring"
   ]
  },
  {
   "cell_type": "code",
   "execution_count": 14,
   "metadata": {
    "collapsed": false
   },
   "outputs": [
    {
     "name": "stdout",
     "output_type": "stream",
     "text": [
      "[Content with code: strategy]\n",
      "-----------------------------\n",
      "[Comment dsu21u7 -> Comment dstxpky | Submission 7r3cy3]\n",
      "nlcund: Some years ago they made it strategy-free on the recommendation of a consultant from Stanford.  \u001b[33mThe original problem was that parents could only list six schools, so they would typically list the \"best\" schools (highest test scores) and fail, or try to add a few \"safe\" schools at the bottom of the list.\u001b[0m  There were a lot of urban legends, such as listing the same school six times.\n",
      "\n",
      "Now parents can list all the schools in the order they want (their true ranking) without affecting their chances either way.  It's a bit laborious though.  \n",
      "\n",
      "[Comment dstxpky -> Submission 7r3cy3] SFCitizenDotCom: \u001b[33mYou're not supposed to try to \"game\" the system\u001b[0m, you're supposed to put schools down what are your preferences. If you have unrealistic choices, you shouldn't be \"shocked\" when you don't get them. \n"
     ]
    }
   ],
   "source": [
    "print(dv.view_coded(\"strategy\"))"
   ]
  },
  {
   "cell_type": "markdown",
   "metadata": {},
   "source": [
    "We can also modify (edit label or add/edit a description) or delete codes."
   ]
  },
  {
   "cell_type": "code",
   "execution_count": 15,
   "metadata": {
    "collapsed": false
   },
   "outputs": [],
   "source": [
    "a.update_code(\"strategy\", description = \"tactically reporting preferences to try to get a better outcome\")"
   ]
  },
  {
   "cell_type": "code",
   "execution_count": 16,
   "metadata": {
    "collapsed": false
   },
   "outputs": [
    {
     "name": "stdout",
     "output_type": "stream",
     "text": [
      "strategy - tactically reporting preferences to try to get a better outcome\n"
     ]
    }
   ],
   "source": [
    "print(a.get_code(\"strategy\"))"
   ]
  },
  {
   "cell_type": "code",
   "execution_count": 39,
   "metadata": {
    "collapsed": false
   },
   "outputs": [
    {
     "name": "stdout",
     "output_type": "stream",
     "text": [
      "Delete code: strategy? Type 'Y' to confirm: y\n",
      "Deleting code strategy\n"
     ]
    }
   ],
   "source": [
    "a.delete_code(\"strategy\")"
   ]
  },
  {
   "cell_type": "markdown",
   "metadata": {
    "collapsed": false
   },
   "source": [
    "By default, the `Data_Loader` adds a full-text Lucene index to the content, code name and coded excerpts. This means we can efficiently query by searching the Comment and Submission nodes."
   ]
  },
  {
   "cell_type": "code",
   "execution_count": 40,
   "metadata": {
    "collapsed": false
   },
   "outputs": [
    {
     "name": "stdout",
     "output_type": "stream",
     "text": [
      "[Content matching search term: the lottery]\n",
      "-------------------------------------------\n",
      "[Comment dsuioqn -> Submission 7r3cy3] yaaaaayPancakes: After reading through that, it seems like one thing that would help everyone involved is better access to school data to make choices during the lottery rounds. They ought to build a website that indexes all the school data so parents can access it easily, anytime.\n",
      "\n",
      "[Comment dsuqip6 -> Comment dsubxm7 | Submission 7r3cy3]\n",
      "ispeakdatruf: > A, B, and C were under performing and lacking in resources. The school district wanted to offer these low income students more opportunities and so the lottery system came into place. The lottery is not perfect, but I understand the purpose of it. \n",
      "\n",
      "Please, please tell me how the lottery helps with lack of resources.\n",
      "\n",
      "[Comment dsu8itp -> Comment dsu54w9 | Submission 7r3cy3]\n",
      "ultralame: > then fix that fucking school!\n",
      "\n",
      "So simple! why don't you  explain how to do this?  You'd win a Nobel prize.\n",
      "\n",
      "Not that I disagree with your solution though.  The lottery is kinda useless.  If we assigned based on local school, we'd have what we have in the burbs... the homes in desirable school zones would skyrocket.  And parents with money would afford to live there and send their kids there.\n",
      "\n",
      "And what's the #1 correlation for how well kids do in school?  How well educated their parents are.  And of course, that also correlates to how much they earn... and in the US, how much you earn correlates to race.\n",
      "\n",
      "So we'll just end up with poor parents, who *statistically* have lower performing kids, concentrated in the cheaper parts of the city.\n",
      "\n",
      "**But that's essentially what we have now**.  Parents with money are educated and work hard to get their kids in the schools they think are good.  The lottery for those schools are overwhelmed with those kids, and the final lottery assignment shows it.\n",
      "\n",
      "Parents who don't care about school (statistically poor), and parents who might care but are too poor to be able to get their kids two neighborhoods over?  They get assigned nearby anyway- either because it's convenient or because they have no choice.  And now those kids are concentrated in a \"bad school\".\n",
      "\n",
      "My ultimate point is that it's either gonna be the lottery or how much home you can afford that determines where you go, but the demographics aren't going to change much.  The lottery is at least *a little* more egalitarian, and gives a few kids in bad areas a chance to get into a school with a more studious population.  And you aren't going to fix a bad school in this city without swapping the kids out of it.  When you concentrate kids from families that aren't educated, you get a lower performing school.  That's all there is to it.\n",
      "\n",
      "[Comment dsuj9b2 -> Comment dsuj1ga | Submission 7r3cy3]\n",
      "ispeakdatruf: Problem is, the lottery is random. Human beings can't handle randomness; it adds a lot of stress. Why subject parents to the uncertainty, and the kids to long commutes? For what purpose? The stated purpose (of lifting the education scores of underprivileged kids) *isn't working anyways!* Why are they compounding the mistake and making things worse?\n",
      "\n",
      "[Comment dsukytz -> Comment dsujj2k | Submission 7r3cy3]\n",
      "ultralame: >Are you telling me that there is no school in this country where poor kids do well?\n",
      "\n",
      "No, there are exceptions. Always are. But statistically, poor kids do worse. Much worse.\n",
      "\n",
      "Everything you suggested costs a lot of money. Cutting admin staff won't make up for the things you want, let alone paying teachers more. Take it up with Sacramento and city hall. SFUSD is about average for CA, which is about average for the country, which is about 1/2 what NY and NJ spend per student.\n",
      "\n",
      "Also, speak for yourself. I lived in the countryside and had almost an hour on the school bus each way (picked up at 7am to arrive a little before 8. Yet somehow I managed to do extremely well in school and not be miserable.  Same for my brother and a ton of kids out there. Oh, and which kids did best in school? The kids from professional, educated parents.  The poor kids? Same problems they have here... Even though race wasn't a factor there. Same teachers. Same classrooms.\n",
      "\n",
      "The idea that the lottery is there to cover up anything is silly. Over and over they have tried different assignment systems to solve different problems, and there's always something. The lottery, as much as some people hate it, solves a lot of problems. I'm not claiming there isn't a better system, but each system has its own serious problems.\n",
      "\n",
      "[Comment dsuvc7v -> Comment dsubxm7 | Submission 7r3cy3]\n",
      "justageek: All the lottery does is incentivize every parent who can afford to do so, to send their kids to private school. And the ones who can't afford it, just move out of the city.\n",
      "\n",
      "[Comment dsu4rx9 -> Submission 7r3cy3] scopa0304: The fact that your attendance area is a tie breaker is great. We listed our neighborhood school #1 and got in. The fact that there was even a slight chance we might not get in was ridiculous. I wish attendance area was the second tie breaker instead of the third. \n",
      "\n",
      "I hope the sibling tie breaker is as much of a lock as people say.\n",
      "\n",
      "I am not looking forward to the high school lottery.\n",
      "\n",
      "[Comment dsujh1g -> Comment dsuj9b2 | Submission 7r3cy3]\n",
      "hokeyphenokey: The lottery is absolutely not random. I mean, did you read the article? It is not a true Lottery. It is weighted in many different ways.\n",
      "\n",
      "Also, you may not get to school you want, but you absolutely will not be forced into a school that you don't want.\n",
      "\n",
      "And if you keep at it, in a year or two you *will* get the school you want. By that time your kid might be happy where he is, maybe not.\n",
      "\n",
      "Source: was a student, have two nephews, know many sf public school families and teachers.\n",
      "\n",
      "\n",
      "[Comment dsus810 -> Comment dsujh1g | Submission 7r3cy3]\n",
      "ispeakdatruf: > The lottery is absolutely not random.\n",
      "\n",
      "If there's a (random) chance that you won't get your first preference, then the lottery *is* random. \n",
      "\n",
      "[Comment dsug1cu -> Comment dsufkfk | Submission 7r3cy3]\n",
      "ultralame: Holy shit!  Someone had a really bad experience with this system?!  Well, we had better re-tool the whole thing.  What's that?  Lots of other kids who might be placed at decent schools outside their neighborhood will end up at those shitty schools nearby and be relentlessly bullied too?  Ah, well fuck them because you had a horror story about some kid.\n",
      "\n",
      "There will always be horror stories, there will always be problems.  No solution is perfect.  I feel terrible for families like the one you described, but there will be plenty of families to feel sorry for with any solution.\n",
      "\n",
      "Having a neighborhood centric system works for some families, not for others.  The lottery works for some, not for others.  If you can design a system that works for everyone (that doesn't involve magically having more money- which actually would solve a lot of these problems), I am all for it.  Until then it's not helpful to post a horror story- especially when it's obvious there would be an equivalent story with any system they try to implement.\n",
      "\n",
      "EDIT:  Also, WTF?\n",
      "\n",
      "> Tell that to the kid that got placed at a school 40 min away since they didn't test quite well enough to get into a school in their neighborhood\n",
      "\n",
      "As far as I know, there's no testing requirement for any except two specific high schools in the city (Lowell and SOTA).\n",
      "\n",
      "[Comment dsuj1ga -> Comment dsu54w9 | Submission 7r3cy3]\n",
      "hokeyphenokey: There are lots of good parents who really care about their child's education and could not possibly send their kids to a bad neighborhood School. There are actually quite a few good schools around town, and there are lots of good parents around town. But they are *around town*.\n",
      "\n",
      "The school referenced in the article is Rooftop School. I'm 42 years old, and that was the number one most popular school when I was 5 years old. Everyone wants to go there. It would not be fair if only people that lived in Twin Peaks got to go there.\n",
      "\n",
      "Likewise it would suck if I lived in the Portola and my kid ended up in a Bayview School.\n",
      "\n",
      "Also, this is a legacy of court-ordered integration from the 70s. Like was referenced above, parents didn't want their kids going to certain bad neighborhood schools. The court-ordered integration was sending kids from good neighborhoods too bad neighborhoods. Those parents really put up a stink. The lottery was the only way around it. You may not get the school you want, but you definitely could stay away from the school you didn't want.\n",
      "\n",
      "They may be able to improve the lottery, but it's not going away because it can't go away.\n",
      "\n",
      "Also \"fix that school\". That is 90% up to the parents. Parents who read to their children, parents to help them with their homework, parents who show up at the PTA meeting and even help out sometimes. You should see the difference between a bad school and rooftop. It's not that the teachers Care More at rooftop. It's that the parents help more.\n",
      "\n",
      "\n",
      "\n",
      "[Comment dsujj2k -> Comment dsu8itp | Submission 7r3cy3]\n",
      "ispeakdatruf: > So simple! why don't you explain how to do this? You'd win a Nobel prize.\n",
      "\n",
      "If only the bar to a Nobel was this fucking low.\n",
      "\n",
      "Add more teachers in underperforming schools. Add social workers to work with the parents. Cut out the administrative bloat (SFUSD wants to pay the administrative staff top dollar; but teachers? Nope!), and use the savings to pay teachers more. Are you telling me that there is no school in this country where poor kids do well? Of course not.  But this lottery system is just a means to hide their incompetence. Despite it, things are not working!\n",
      "\n",
      "I grew up in an area where most of my classmates lived nearby, and my commute was like 10 minutes. Guess what? It was so much fun. I bet if I had been bussed an hour away each day, to attend a school where I knew no one, I would've been miserable and my grades would have suffered.\n",
      "\n",
      "[Comment dsubxm7 -> Submission 7r3cy3] dockingnow: \"In many places around the country, where a child lives determines where he or she goes to school. San Francisco doesn’t do that because of segregated housing patterns. Creating diverse schools is a district goal.\"\n",
      "\n",
      "I wish NPR went into more detail about this. But basically all the poor kids (mostly black and hispanics) were attending high school A, B, and C while the middle and upper class kids (mostly asians and whites) went to high school D, E, F, and G. A, B, and C were under performing and lacking in resources. The school district wanted to offer these low income students more opportunities and so the lottery system came into place. The lottery is not perfect, but I understand the purpose of it. \n",
      "\n",
      "[Submission 7r3cy3]\n",
      " bloobityblurp: How the San Francisco School Lottery Works, And How It Doesn’t (https://ww2.kqed.org/news/2018/01/11/how-the-san-francisco-school-lottery-works-and-how-it-doesnt-2/) \n",
      " \n"
     ]
    }
   ],
   "source": [
    "print(dv.view_search(\"the lottery\"))"
   ]
  },
  {
   "cell_type": "markdown",
   "metadata": {
    "collapsed": true
   },
   "source": [
    "# Viewing and analyzing codes"
   ]
  },
  {
   "cell_type": "code",
   "execution_count": null,
   "metadata": {
    "collapsed": false
   },
   "outputs": [],
   "source": []
  },
  {
   "cell_type": "code",
   "execution_count": 26,
   "metadata": {
    "collapsed": false
   },
   "outputs": [],
   "source": []
  }
 ],
 "metadata": {
  "anaconda-cloud": {},
  "kernelspec": {
   "display_name": "290t",
   "language": "python",
   "name": "290t"
  },
  "language_info": {
   "codemirror_mode": {
    "name": "ipython",
    "version": 3
   },
   "file_extension": ".py",
   "mimetype": "text/x-python",
   "name": "python",
   "nbconvert_exporter": "python",
   "pygments_lexer": "ipython3",
   "version": "3.7.4"
  }
 },
 "nbformat": 4,
 "nbformat_minor": 1
}
