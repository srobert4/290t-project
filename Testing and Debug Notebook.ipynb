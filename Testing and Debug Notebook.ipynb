{
 "cells": [
  {
   "cell_type": "markdown",
   "metadata": {},
   "source": [
    "# Scrap notebook for testing and debugging"
   ]
  },
  {
   "cell_type": "code",
   "execution_count": 1,
   "metadata": {
    "collapsed": true
   },
   "outputs": [],
   "source": [
    "%load_ext autoreload"
   ]
  },
  {
   "cell_type": "code",
   "execution_count": 2,
   "metadata": {
    "collapsed": true
   },
   "outputs": [],
   "source": [
    "%autoreload 2"
   ]
  },
  {
   "cell_type": "code",
   "execution_count": 3,
   "metadata": {
    "collapsed": false
   },
   "outputs": [],
   "source": [
    "from data_loader import Data_Loader\n",
    "from annotator import Annotator\n",
    "import time\n",
    "from scraper import Reddit"
   ]
  },
  {
   "cell_type": "code",
   "execution_count": null,
   "metadata": {
    "collapsed": true
   },
   "outputs": [],
   "source": [
    "# A list of urls that of submissions that you want to add to your graph. \n",
    "# These should be top level posts (not links to comments)\n",
    "submissions = ['https://www.reddit.com/r/sanfrancisco/comments/7r3cy3/how_the_san_francisco_school_lottery_works_and/' ]\n",
    "# Below is the full list of submissions I'm currently using for the school choice project\n",
    "# submissions = [\n",
    "#     'https://www.reddit.com/r/sanfrancisco/comments/bs5f69/just_had_the_elementary_school_lottery_explained/',\n",
    "#     'https://www.reddit.com/r/sanfrancisco/comments/7r3cy3/how_the_san_francisco_school_lottery_works_and/',\n",
    "#     'https://www.reddit.com/r/sanfrancisco/comments/4ah4no/fuck_the_sf_school_lottery_thats_all/',\n",
    "#     'https://www.reddit.com/r/sanfrancisco/comments/b5kbse/how_the_student_assignment_system_works_sfusd/',\n",
    "#     'https://www.reddit.com/r/sanfrancisco/comments/9hh9z8/two_sf_school_board_members_to_introduce/',\n",
    "#     'https://www.reddit.com/r/sanfrancisco/comments/4646v8/experience_with_enrolling_in_sfusd_school/',\n",
    "#     'https://www.reddit.com/r/sanfrancisco/comments/a5nrej/sf_school_board_plans_to_replace_muchcriticized/',\n",
    "#     'https://www.reddit.com/r/sanfrancisco/comments/bhcxhb/san_francisco_had_an_ambitious_plan_to_tackle/',\n",
    "#     'https://www.reddit.com/r/sanfrancisco/comments/5e5834/i_made_a_website_of_sf_elementary_school_test/',\n",
    "#     'https://www.reddit.com/r/sanfrancisco/comments/cg5coh/sfusd_kindergarten/'\n",
    "# ]"
   ]
  },
  {
   "cell_type": "code",
   "execution_count": 4,
   "metadata": {
    "collapsed": false
   },
   "outputs": [],
   "source": [
    "dl = Data_Loader()"
   ]
  },
  {
   "cell_type": "code",
   "execution_count": 3,
   "metadata": {
    "collapsed": false
   },
   "outputs": [],
   "source": [
    "dl.clear_graph()"
   ]
  },
  {
   "cell_type": "code",
   "execution_count": 4,
   "metadata": {
    "collapsed": false
   },
   "outputs": [],
   "source": [
    "comment_url = ['https://www.reddit.com/r/sanfrancisco/comments/7r3cy3/how_the_san_francisco_school_lottery_works_and/dstzrg6?utm_source=share&utm_medium=web2x']"
   ]
  },
  {
   "cell_type": "code",
   "execution_count": 5,
   "metadata": {
    "collapsed": false
   },
   "outputs": [],
   "source": [
    "dl.load_from_comment(comment_url)"
   ]
  },
  {
   "cell_type": "code",
   "execution_count": 3,
   "metadata": {
    "collapsed": false
   },
   "outputs": [],
   "source": [
    "from nodes import Comment"
   ]
  },
  {
   "cell_type": "code",
   "execution_count": 4,
   "metadata": {
    "collapsed": true
   },
   "outputs": [],
   "source": [
    "c = Comment.match(dl.graph, \"dstzrg6\").first()"
   ]
  },
  {
   "cell_type": "code",
   "execution_count": 5,
   "metadata": {
    "collapsed": false
   },
   "outputs": [
    {
     "data": {
      "text/plain": [
       "\"I'm a millionaire, but I live in a CTIP block.  That's San Francisco for you. \""
      ]
     },
     "execution_count": 5,
     "metadata": {},
     "output_type": "execute_result"
    }
   ],
   "source": [
    "c.text"
   ]
  },
  {
   "cell_type": "code",
   "execution_count": 6,
   "metadata": {
    "collapsed": true
   },
   "outputs": [],
   "source": [
    "a = Annotator()"
   ]
  },
  {
   "cell_type": "code",
   "execution_count": 8,
   "metadata": {
    "collapsed": false
   },
   "outputs": [],
   "source": [
    "a.annotate(\"algorithm: tie-breakers: CTIP1; another code: subcode; algorithm: somethingelse\", c, c.text)"
   ]
  },
  {
   "cell_type": "markdown",
   "metadata": {
    "collapsed": true
   },
   "source": [
    "# Text indexing"
   ]
  },
  {
   "cell_type": "code",
   "execution_count": 5,
   "metadata": {
    "collapsed": true
   },
   "outputs": [],
   "source": [
    "dl.graph.evaluate(\n",
    "                \"CALL db.index.fulltext.createNodeIndex(\\\"contentIndex\\\",[\\\"Submission\\\", \\\"Comment\\\"],[\\\"title\\\", \\\"text\\\"])\"\n",
    "            )"
   ]
  },
  {
   "cell_type": "code",
   "execution_count": 10,
   "metadata": {
    "collapsed": false
   },
   "outputs": [],
   "source": [
    "c = dl.graph.run(\n",
    "    f\"CALL db.index.fulltext.queryNodes(\\\"contentIndex\\\", \\\"the lottery\\\")\"\n",
    ").data()"
   ]
  },
  {
   "cell_type": "code",
   "execution_count": 11,
   "metadata": {
    "collapsed": false
   },
   "outputs": [
    {
     "data": {
      "text/plain": [
       "[{'node': (_595:Submission {created_time: 1516215974.0, id: '7r3cy3', link: '/r/sanfrancisco/comments/7r3cy3/how_the_san_francisco_school_lottery_works_and/', score: 32, text: '', title: 'How the San Francisco School Lottery Works, And How It Doesn\\u2019t', upvote_ratio: 0.86, url: 'https://ww2.kqed.org/news/2018/01/11/how-the-san-francisco-school-lottery-works-and-how-it-doesnt-2/'}),\n",
       "  'score': 1.0679931640625},\n",
       " {'node': (_108:Comment {created_time: 1516251944.0, id: 'dsus810', link: '/r/sanfrancisco/comments/7r3cy3/how_the_san_francisco_school_lottery_works_and/dsus810/', score: 3, submission: '7r3cy3', text: \"> The lottery is absolutely not random.\\n\\nIf there's a (random) chance that you won't get your first preference, then the lottery *is* random. \", top_level: false}),\n",
       "  'score': 0.2881859540939331},\n",
       " {'node': (_675:Comment {created_time: 1516249579.0, id: 'dsuqip6', link: '/r/sanfrancisco/comments/7r3cy3/how_the_san_francisco_school_lottery_works_and/dsuqip6/', score: 3, submission: '7r3cy3', text: '> A, B, and C were under performing and lacking in resources. The school district wanted to offer these low income students more opportunities and so the lottery system came into place. The lottery is not perfect, but I understand the purpose of it. \\n\\nPlease, please tell me how the lottery helps with lack of resources.', top_level: false}),\n",
       "  'score': 0.22059641778469086},\n",
       " {'node': (_671:Comment {created_time: 1516256848.0, id: 'dsuvc7v', link: '/r/sanfrancisco/comments/7r3cy3/how_the_san_francisco_school_lottery_works_and/dsuvc7v/', score: 8, submission: '7r3cy3', text: \"All the lottery does is incentivize every parent who can afford to do so, to send their kids to private school. And the ones who can't afford it, just move out of the city.\", top_level: false}),\n",
       "  'score': 0.15283368527889252},\n",
       " {'node': (_105:Comment {created_time: 1516240976.0, id: 'dsujh1g', link: '/r/sanfrancisco/comments/7r3cy3/how_the_san_francisco_school_lottery_works_and/dsujh1g/', score: 2, submission: '7r3cy3', text: \"The lottery is absolutely not random. I mean, did you read the article? It is not a true Lottery. It is weighted in many different ways.\\n\\nAlso, you may not get to school you want, but you absolutely will not be forced into a school that you don't want.\\n\\nAnd if you keep at it, in a year or two you *will* get the school you want. By that time your kid might be happy where he is, maybe not.\\n\\nSource: was a student, have two nephews, know many sf public school families and teachers.\\n\", top_level: false}),\n",
       "  'score': 0.14409297704696655},\n",
       " {'node': (_100:Comment {created_time: 1516240731.0, id: 'dsuj9b2', link: '/r/sanfrancisco/comments/7r3cy3/how_the_san_francisco_school_lottery_works_and/dsuj9b2/', score: 4, submission: '7r3cy3', text: \"Problem is, the lottery is random. Human beings can't handle randomness; it adds a lot of stress. Why subject parents to the uncertainty, and the kids to long commutes? For what purpose? The stated purpose (of lifting the education scores of underprivileged kids) *isn't working anyways!* Why are they compounding the mistake and making things worse?\", top_level: false}),\n",
       "  'score': 0.12736140191555023},\n",
       " {'node': (_645:Comment {created_time: 1516240075.0, id: 'dsuioqn', link: '/r/sanfrancisco/comments/7r3cy3/how_the_san_francisco_school_lottery_works_and/dsuioqn/', score: 1, submission: '7r3cy3', text: 'After reading through that, it seems like one thing that would help everyone involved is better access to school data to make choices during the lottery rounds. They ought to build a website that indexes all the school data so parents can access it easily, anytime.', top_level: true}),\n",
       "  'score': 0.12736140191555023},\n",
       " {'node': (_676:Comment {created_time: 1516228848.0, id: 'dsu8itp', link: '/r/sanfrancisco/comments/7r3cy3/how_the_san_francisco_school_lottery_works_and/dsu8itp/', score: 11, submission: '7r3cy3', text: \"> then fix that fucking school!\\n\\nSo simple! why don't you  explain how to do this?  You'd win a Nobel prize.\\n\\nNot that I disagree with your solution though.  The lottery is kinda useless.  If we assigned based on local school, we'd have what we have in the burbs... the homes in desirable school zones would skyrocket.  And parents with money would afford to live there and send their kids there.\\n\\nAnd what's the #1 correlation for how well kids do in school?  How well educated their parents are.  And of course, that also correlates to how much they earn... and in the US, how much you earn correlates to race.\\n\\nSo we'll just end up with poor parents, who *statistically* have lower performing kids, concentrated in the cheaper parts of the city.\\n\\n**But that's essentially what we have now**.  Parents with money are educated and work hard to get their kids in the schools they think are good.  The lottery for those schools are overwhelmed with those kids, and the final lottery assignment shows it.\\n\\nParents who don't care about school (statistically poor), and parents who might care but are too poor to be able to get their kids two neighborhoods over?  They get assigned nearby anyway- either because it's convenient or because they have no choice.  And now those kids are concentrated in a \\\"bad school\\\".\\n\\nMy ultimate point is that it's either gonna be the lottery or how much home you can afford that determines where you go, but the demographics aren't going to change much.  The lottery is at least *a little* more egalitarian, and gives a few kids in bad areas a chance to get into a school with a more studious population.  And you aren't going to fix a bad school in this city without swapping the kids out of it.  When you concentrate kids from families that aren't educated, you get a lower performing school.  That's all there is to it.\", top_level: false}),\n",
       "  'score': 0.11391551047563553},\n",
       " {'node': (_635:Comment {created_time: 1516232381.0, id: 'dsubxm7', link: '/r/sanfrancisco/comments/7r3cy3/how_the_san_francisco_school_lottery_works_and/dsubxm7/', score: 6, submission: '7r3cy3', text: '\"In many places around the country, where a child lives determines where he or she goes to school. San Francisco doesn\\u2019t do that because of segregated housing patterns. Creating diverse schools is a district goal.\"\\n\\nI wish NPR went into more detail about this. But basically all the poor kids (mostly black and hispanics) were attending high school A, B, and C while the middle and upper class kids (mostly asians and whites) went to high school D, E, F, and G. A, B, and C were under performing and lacking in resources. The school district wanted to offer these low income students more opportunities and so the lottery system came into place. The lottery is not perfect, but I understand the purpose of it. ', top_level: true}),\n",
       "  'score': 0.10806973278522491},\n",
       " {'node': (_631:Comment {created_time: 1516225320.0, id: 'dsu4rx9', link: '/r/sanfrancisco/comments/7r3cy3/how_the_san_francisco_school_lottery_works_and/dsu4rx9/', score: 4, submission: '7r3cy3', text: 'The fact that your attendance area is a tie breaker is great. We listed our neighborhood school #1 and got in. The fact that there was even a slight chance we might not get in was ridiculous. I wish attendance area was the second tie breaker instead of the third. \\n\\nI hope the sibling tie breaker is as much of a lock as people say.\\n\\nI am not looking forward to the high school lottery.', top_level: true}),\n",
       "  'score': 0.10188912600278854},\n",
       " {'node': (_103:Comment {created_time: 1516242735.0, id: 'dsukytz', link: '/r/sanfrancisco/comments/7r3cy3/how_the_san_francisco_school_lottery_works_and/dsukytz/', score: 5, submission: '7r3cy3', text: \">Are you telling me that there is no school in this country where poor kids do well?\\n\\nNo, there are exceptions. Always are. But statistically, poor kids do worse. Much worse.\\n\\nEverything you suggested costs a lot of money. Cutting admin staff won't make up for the things you want, let alone paying teachers more. Take it up with Sacramento and city hall. SFUSD is about average for CA, which is about average for the country, which is about 1/2 what NY and NJ spend per student.\\n\\nAlso, speak for yourself. I lived in the countryside and had almost an hour on the school bus each way (picked up at 7am to arrive a little before 8. Yet somehow I managed to do extremely well in school and not be miserable.  Same for my brother and a ton of kids out there. Oh, and which kids did best in school? The kids from professional, educated parents.  The poor kids? Same problems they have here... Even though race wasn't a factor there. Same teachers. Same classrooms.\\n\\nThe idea that the lottery is there to cover up anything is silly. Over and over they have tried different assignment systems to solve different problems, and there's always something. The lottery, as much as some people hate it, solves a lot of problems. I'm not claiming there isn't a better system, but each system has its own serious problems.\", top_level: false}),\n",
       "  'score': 0.0900581106543541},\n",
       " {'node': (_98:Comment {created_time: 1516241043.0, id: 'dsujj2k', link: '/r/sanfrancisco/comments/7r3cy3/how_the_san_francisco_school_lottery_works_and/dsujj2k/', score: 6, submission: '7r3cy3', text: \"> So simple! why don't you explain how to do this? You'd win a Nobel prize.\\n\\nIf only the bar to a Nobel was this fucking low.\\n\\nAdd more teachers in underperforming schools. Add social workers to work with the parents. Cut out the administrative bloat (SFUSD wants to pay the administrative staff top dollar; but teachers? Nope!), and use the savings to pay teachers more. Are you telling me that there is no school in this country where poor kids do well? Of course not.  But this lottery system is just a means to hide their incompetence. Despite it, things are not working!\\n\\nI grew up in an area where most of my classmates lived nearby, and my commute was like 10 minutes. Guess what? It was so much fun. I bet if I had been bussed an hour away each day, to attend a school where I knew no one, I would've been miserable and my grades would have suffered.\", top_level: false}),\n",
       "  'score': 0.07641684263944626},\n",
       " {'node': (_678:Comment {created_time: 1516240480.0, id: 'dsuj1ga', link: '/r/sanfrancisco/comments/7r3cy3/how_the_san_francisco_school_lottery_works_and/dsuj1ga/', score: 2, submission: '7r3cy3', text: \"There are lots of good parents who really care about their child's education and could not possibly send their kids to a bad neighborhood School. There are actually quite a few good schools around town, and there are lots of good parents around town. But they are *around town*.\\n\\nThe school referenced in the article is Rooftop School. I'm 42 years old, and that was the number one most popular school when I was 5 years old. Everyone wants to go there. It would not be fair if only people that lived in Twin Peaks got to go there.\\n\\nLikewise it would suck if I lived in the Portola and my kid ended up in a Bayview School.\\n\\nAlso, this is a legacy of court-ordered integration from the 70s. Like was referenced above, parents didn't want their kids going to certain bad neighborhood schools. The court-ordered integration was sending kids from good neighborhoods too bad neighborhoods. Those parents really put up a stink. The lottery was the only way around it. You may not get the school you want, but you definitely could stay away from the school you didn't want.\\n\\nThey may be able to improve the lottery, but it's not going away because it can't go away.\\n\\nAlso \\\"fix that school\\\". That is 90% up to the parents. Parents who read to their children, parents to help them with their homework, parents who show up at the PTA meeting and even help out sometimes. You should see the difference between a bad school and rooftop. It's not that the teachers Care More at rooftop. It's that the parents help more.\\n\\n\", top_level: false}),\n",
       "  'score': 0.07204648852348328},\n",
       " {'node': (_104:Comment {created_time: 1516237034.0, id: 'dsug1cu', link: '/r/sanfrancisco/comments/7r3cy3/how_the_san_francisco_school_lottery_works_and/dsug1cu/', score: 3, submission: '7r3cy3', text: \"Holy shit!  Someone had a really bad experience with this system?!  Well, we had better re-tool the whole thing.  What's that?  Lots of other kids who might be placed at decent schools outside their neighborhood will end up at those shitty schools nearby and be relentlessly bullied too?  Ah, well fuck them because you had a horror story about some kid.\\n\\nThere will always be horror stories, there will always be problems.  No solution is perfect.  I feel terrible for families like the one you described, but there will be plenty of families to feel sorry for with any solution.\\n\\nHaving a neighborhood centric system works for some families, not for others.  The lottery works for some, not for others.  If you can design a system that works for everyone (that doesn't involve magically having more money- which actually would solve a lot of these problems), I am all for it.  Until then it's not helpful to post a horror story- especially when it's obvious there would be an equivalent story with any system they try to implement.\\n\\nEDIT:  Also, WTF?\\n\\n> Tell that to the kid that got placed at a school 40 min away since they didn't test quite well enough to get into a school in their neighborhood\\n\\nAs far as I know, there's no testing requirement for any except two specific high schools in the city (Lowell and SOTA).\", top_level: false}),\n",
       "  'score': 0.06368070095777512}]"
      ]
     },
     "execution_count": 11,
     "metadata": {},
     "output_type": "execute_result"
    }
   ],
   "source": [
    "c"
   ]
  },
  {
   "cell_type": "markdown",
   "metadata": {},
   "source": [
    "# Timing experiments"
   ]
  },
  {
   "cell_type": "code",
   "execution_count": null,
   "metadata": {
    "collapsed": false
   },
   "outputs": [],
   "source": [
    "dl.clear_graph()"
   ]
  },
  {
   "cell_type": "code",
   "execution_count": null,
   "metadata": {
    "collapsed": false
   },
   "outputs": [],
   "source": [
    "tic = time.perf_counter()\n",
    "dl.load_submissions(submissions)\n",
    "toc = time.perf_counter()\n",
    "print(f\"Added submission in {toc - tic:0.4f} seconds\")"
   ]
  },
  {
   "cell_type": "code",
   "execution_count": null,
   "metadata": {
    "collapsed": true
   },
   "outputs": [],
   "source": [
    "dl.clear_graph()"
   ]
  },
  {
   "cell_type": "code",
   "execution_count": null,
   "metadata": {
    "collapsed": false
   },
   "outputs": [],
   "source": [
    "dl.graph.schema.drop_uniqueness_constraint(\"User\", \"id\")\n",
    "dl.graph.schema.drop_uniqueness_constraint(\"Submission\", \"id\")\n",
    "dl.graph.schema.drop_uniqueness_constraint(\"Subreddit\", \"id\")"
   ]
  },
  {
   "cell_type": "code",
   "execution_count": null,
   "metadata": {
    "collapsed": false
   },
   "outputs": [],
   "source": [
    "tic = time.perf_counter()\n",
    "dl.load_submissions(submissions)\n",
    "toc = time.perf_counter()\n",
    "print(f\"Downloaded the tutorial in {toc - tic:0.4f} seconds\")"
   ]
  },
  {
   "cell_type": "code",
   "execution_count": null,
   "metadata": {
    "collapsed": true
   },
   "outputs": [],
   "source": []
  }
 ],
 "metadata": {
  "anaconda-cloud": {},
  "kernelspec": {
   "display_name": "290t",
   "language": "python",
   "name": "290t"
  },
  "language_info": {
   "codemirror_mode": {
    "name": "ipython",
    "version": 3
   },
   "file_extension": ".py",
   "mimetype": "text/x-python",
   "name": "python",
   "nbconvert_exporter": "python",
   "pygments_lexer": "ipython3",
   "version": "3.7.4"
  }
 },
 "nbformat": 4,
 "nbformat_minor": 1
}
