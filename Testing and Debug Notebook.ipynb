{
 "cells": [
  {
   "cell_type": "markdown",
   "metadata": {},
   "source": [
    "# Scrap notebook for testing and debugging"
   ]
  },
  {
   "cell_type": "code",
   "execution_count": null,
   "metadata": {
    "collapsed": true
   },
   "outputs": [],
   "source": [
    "%load_ext autoreload"
   ]
  },
  {
   "cell_type": "code",
   "execution_count": null,
   "metadata": {
    "collapsed": true
   },
   "outputs": [],
   "source": [
    "%autoreload 2"
   ]
  },
  {
   "cell_type": "code",
   "execution_count": 1,
   "metadata": {
    "collapsed": false
   },
   "outputs": [],
   "source": [
    "from data_loader import Data_Loader\n",
    "import time\n",
    "from scraper import Reddit"
   ]
  },
  {
   "cell_type": "code",
   "execution_count": null,
   "metadata": {
    "collapsed": true
   },
   "outputs": [],
   "source": [
    "# A list of urls that of submissions that you want to add to your graph. \n",
    "# These should be top level posts (not links to comments)\n",
    "submissions = ['https://www.reddit.com/r/sanfrancisco/comments/7r3cy3/how_the_san_francisco_school_lottery_works_and/' ]\n",
    "# Below is the full list of submissions I'm currently using for the school choice project\n",
    "# submissions = [\n",
    "#     'https://www.reddit.com/r/sanfrancisco/comments/bs5f69/just_had_the_elementary_school_lottery_explained/',\n",
    "#     'https://www.reddit.com/r/sanfrancisco/comments/7r3cy3/how_the_san_francisco_school_lottery_works_and/',\n",
    "#     'https://www.reddit.com/r/sanfrancisco/comments/4ah4no/fuck_the_sf_school_lottery_thats_all/',\n",
    "#     'https://www.reddit.com/r/sanfrancisco/comments/b5kbse/how_the_student_assignment_system_works_sfusd/',\n",
    "#     'https://www.reddit.com/r/sanfrancisco/comments/9hh9z8/two_sf_school_board_members_to_introduce/',\n",
    "#     'https://www.reddit.com/r/sanfrancisco/comments/4646v8/experience_with_enrolling_in_sfusd_school/',\n",
    "#     'https://www.reddit.com/r/sanfrancisco/comments/a5nrej/sf_school_board_plans_to_replace_muchcriticized/',\n",
    "#     'https://www.reddit.com/r/sanfrancisco/comments/bhcxhb/san_francisco_had_an_ambitious_plan_to_tackle/',\n",
    "#     'https://www.reddit.com/r/sanfrancisco/comments/5e5834/i_made_a_website_of_sf_elementary_school_test/',\n",
    "#     'https://www.reddit.com/r/sanfrancisco/comments/cg5coh/sfusd_kindergarten/'\n",
    "# ]"
   ]
  },
  {
   "cell_type": "code",
   "execution_count": 2,
   "metadata": {
    "collapsed": false
   },
   "outputs": [],
   "source": [
    "dl = Data_Loader()"
   ]
  },
  {
   "cell_type": "code",
   "execution_count": 3,
   "metadata": {
    "collapsed": false
   },
   "outputs": [],
   "source": [
    "dl.clear_graph()"
   ]
  },
  {
   "cell_type": "code",
   "execution_count": 4,
   "metadata": {
    "collapsed": false
   },
   "outputs": [],
   "source": [
    "comment_url = ['https://www.reddit.com/r/sanfrancisco/comments/7r3cy3/how_the_san_francisco_school_lottery_works_and/dstzrg6?utm_source=share&utm_medium=web2x']"
   ]
  },
  {
   "cell_type": "code",
   "execution_count": 5,
   "metadata": {
    "collapsed": false
   },
   "outputs": [
    {
     "name": "stdout",
     "output_type": "stream",
     "text": [
      "adding author: bloobityblurp\n",
      "adding author: mrmagcore\n",
      "adding author: Kache\n",
      "adding author: scopa0304\n",
      "adding author: seancarter90\n",
      "adding author: dockingnow\n",
      "adding author: Ohyoudidntknowftt\n",
      "adding author: ispeakdatruf\n",
      "adding author: redditeyedoc\n",
      "adding author: yaaaaayPancakes\n",
      "adding author: SFCitizenDotCom\n",
      "adding author: nlcund\n",
      "adding author: justageek\n",
      "adding author: NotheBrain\n",
      "adding author: ultralame\n",
      "adding author: hokeyphenokey\n",
      "adding author: ajw204\n",
      "adding author: santacruisin\n",
      "adding author: LiverpoolLOLs\n",
      "adding author: cardifan\n"
     ]
    }
   ],
   "source": [
    "dl.load_from_comment(comment_url)"
   ]
  },
  {
   "cell_type": "code",
   "execution_count": 7,
   "metadata": {
    "collapsed": false
   },
   "outputs": [
    {
     "name": "stdout",
     "output_type": "stream",
     "text": [
      "adding author: justasapling\n",
      "adding author: familynight\n",
      "adding author: singlewall\n",
      "adding author: Gangreless\n",
      "adding author: ShinobiZilla\n",
      "adding author: KhwarazmianShah\n",
      "adding author: the3natural\n",
      "adding author: schpyda\n",
      "adding author: Commodore_Vanderbilt\n",
      "adding author: boyworldwide\n",
      "adding author: xDeranx\n",
      "adding author: mm825\n",
      "adding author: DoctorTrash\n",
      "adding author: mhda037\n",
      "adding author: RobertPower415\n",
      "adding author: AdvancedAlgebra\n",
      "adding author: WoolziesInTheDryer\n",
      "adding author: poop_dawg\n",
      "adding author: BeanDemon\n",
      "adding author: LiraNuna\n",
      "adding author: StretchFrenchTerry\n"
     ]
    }
   ],
   "source": [
    "dl.load_by_user_and_subreddit(user_name = \"justasapling\", subreddit_name = \"sanfrancisco\", limit = 10)"
   ]
  },
  {
   "cell_type": "code",
   "execution_count": 6,
   "metadata": {
    "collapsed": false
   },
   "outputs": [
    {
     "name": "stdout",
     "output_type": "stream",
     "text": [
      "reddit will soon only be available over HTTPS\n",
      "-1\n"
     ]
    }
   ],
   "source": [
    "import pprint\n",
    "\n",
    "# assume you have a Reddit instance bound to variable `reddit`\n",
    "submission = Reddit().get_submission(id='39zje0')\n",
    "print(submission.title) # to make it non-lazy\n",
    "pprint.pprint(dict(vars(submission)).get(\"bloopidy\", -1))"
   ]
  },
  {
   "cell_type": "code",
   "execution_count": null,
   "metadata": {
    "collapsed": true
   },
   "outputs": [],
   "source": []
  },
  {
   "cell_type": "markdown",
   "metadata": {},
   "source": [
    "# Timing experiments"
   ]
  },
  {
   "cell_type": "code",
   "execution_count": null,
   "metadata": {
    "collapsed": false
   },
   "outputs": [],
   "source": [
    "dl.clear_graph()"
   ]
  },
  {
   "cell_type": "code",
   "execution_count": null,
   "metadata": {
    "collapsed": false
   },
   "outputs": [],
   "source": [
    "tic = time.perf_counter()\n",
    "dl.load_submissions(submissions)\n",
    "toc = time.perf_counter()\n",
    "print(f\"Added submission in {toc - tic:0.4f} seconds\")"
   ]
  },
  {
   "cell_type": "code",
   "execution_count": null,
   "metadata": {
    "collapsed": true
   },
   "outputs": [],
   "source": [
    "dl.clear_graph()"
   ]
  },
  {
   "cell_type": "code",
   "execution_count": null,
   "metadata": {
    "collapsed": false
   },
   "outputs": [],
   "source": [
    "dl.graph.schema.drop_uniqueness_constraint(\"User\", \"id\")\n",
    "dl.graph.schema.drop_uniqueness_constraint(\"Submission\", \"id\")\n",
    "dl.graph.schema.drop_uniqueness_constraint(\"Subreddit\", \"id\")"
   ]
  },
  {
   "cell_type": "code",
   "execution_count": null,
   "metadata": {
    "collapsed": false
   },
   "outputs": [],
   "source": [
    "tic = time.perf_counter()\n",
    "dl.load_submissions(submissions)\n",
    "toc = time.perf_counter()\n",
    "print(f\"Downloaded the tutorial in {toc - tic:0.4f} seconds\")"
   ]
  },
  {
   "cell_type": "code",
   "execution_count": null,
   "metadata": {
    "collapsed": true
   },
   "outputs": [],
   "source": []
  }
 ],
 "metadata": {
  "anaconda-cloud": {},
  "kernelspec": {
   "display_name": "290t",
   "language": "python",
   "name": "290t"
  },
  "language_info": {
   "codemirror_mode": {
    "name": "ipython",
    "version": 3
   },
   "file_extension": ".py",
   "mimetype": "text/x-python",
   "name": "python",
   "nbconvert_exporter": "python",
   "pygments_lexer": "ipython3",
   "version": "3.7.4"
  }
 },
 "nbformat": 4,
 "nbformat_minor": 1
}
