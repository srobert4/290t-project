{
 "cells": [
  {
   "cell_type": "code",
   "execution_count": 1,
   "metadata": {
    "collapsed": false
   },
   "outputs": [],
   "source": [
    "import numpy as np\n",
    "import pandas as pd\n",
    "import praw\n",
    "from tqdm import tqdm\n",
    "import py2neo as pn"
   ]
  },
  {
   "cell_type": "code",
   "execution_count": 2,
   "metadata": {
    "collapsed": true
   },
   "outputs": [],
   "source": [
    "submissions = [\n",
    "    'https://www.reddit.com/r/sanfrancisco/comments/bs5f69/just_had_the_elementary_school_lottery_explained/',\n",
    "    'https://www.reddit.com/r/sanfrancisco/comments/7r3cy3/how_the_san_francisco_school_lottery_works_and/',\n",
    "    'https://www.reddit.com/r/sanfrancisco/comments/4ah4no/fuck_the_sf_school_lottery_thats_all/',\n",
    "    'https://www.reddit.com/r/sanfrancisco/comments/b5kbse/how_the_student_assignment_system_works_sfusd/',\n",
    "    'https://www.reddit.com/r/sanfrancisco/comments/9hh9z8/two_sf_school_board_members_to_introduce/',\n",
    "    'https://www.reddit.com/r/sanfrancisco/comments/4646v8/experience_with_enrolling_in_sfusd_school/',\n",
    "    'https://www.reddit.com/r/sanfrancisco/comments/a5nrej/sf_school_board_plans_to_replace_muchcriticized/',\n",
    "    'https://www.reddit.com/r/sanfrancisco/comments/bhcxhb/san_francisco_had_an_ambitious_plan_to_tackle/',\n",
    "    'https://www.reddit.com/r/sanfrancisco/comments/5e5834/i_made_a_website_of_sf_elementary_school_test/',\n",
    "    'https://www.reddit.com/r/sanfrancisco/comments/cg5coh/sfusd_kindergarten/'\n",
    "]"
   ]
  },
  {
   "cell_type": "markdown",
   "metadata": {},
   "source": [
    "Connect to Reddit"
   ]
  },
  {
   "cell_type": "code",
   "execution_count": 3,
   "metadata": {
    "collapsed": false
   },
   "outputs": [],
   "source": [
    "reddit = praw.Reddit(client_id='8bgMudNSu0bC6Q',\n",
    "                     client_secret='4evDbSmLfVBsuV6X8hoX8XHhaCA',\n",
    "                     user_agent='testscript by /u/catlady900')"
   ]
  },
  {
   "cell_type": "markdown",
   "metadata": {},
   "source": [
    "Connect to DB"
   ]
  },
  {
   "cell_type": "code",
   "execution_count": 4,
   "metadata": {
    "collapsed": true
   },
   "outputs": [],
   "source": [
    "g = pn.Graph(auth=(\"neo4j\", \"paBa%Wp36^\"))"
   ]
  },
  {
   "cell_type": "markdown",
   "metadata": {},
   "source": [
    "Generate queries to add data"
   ]
  },
  {
   "cell_type": "code",
   "execution_count": 7,
   "metadata": {
    "collapsed": true
   },
   "outputs": [],
   "source": [
    "def setup_db():\n",
    "    query = \"CREATE CONSTRAINT ON (n:User) ASSERT n.id IS UNIQUE;\\\n",
    "    CREATE CONSTRAINT ON (n:Submission) ASSERT n.id IS UNIQUE;\\\n",
    "    CREATE CONSTRAINT ON (n:Comment) ASSERT n.id IS UNIQUE;\\\n",
    "    CREATE CONSTRAINT ON (n:Subreddit) ASSERT n.id IS UNIQUE;\""
   ]
  },
  {
   "cell_type": "code",
   "execution_count": 48,
   "metadata": {
    "collapsed": true
   },
   "outputs": [],
   "source": [
    "def get_attr_dict(obj, atts):\n",
    "    if obj is None: return None\n",
    "    attrs = dict()\n",
    "    for v in atts:\n",
    "        if hasattr(obj, v):\n",
    "            attrs[v] = getattr(obj, v)\n",
    "    return attrs\n",
    "\n",
    "def get_submission_dict(submission):\n",
    "    return get_attr_dict(\n",
    "        submission,\n",
    "        [\"id\", \"text\", \"url\", \"score\", \"upvote_ratio\"]\n",
    "    )\n",
    "    \n",
    "def get_user_dict(author):\n",
    "    return get_attr_dict(\n",
    "        author,\n",
    "        [\"id\",\"name\",\"comment_karma\",\"created\",\"link_karma\"]\n",
    "    )\n",
    "\n",
    "def get_subreddit_dict(subreddit):\n",
    "    return get_attr_dict(\n",
    "        subreddit,\n",
    "        [\"id\", \"display_name\", \"descr\", \"created\", \"subscribers\"]\n",
    "    )\n",
    "\n",
    "def get_comment_dict(comment):\n",
    "    return get_attr_dict(\n",
    "        comment,\n",
    "        [\"id\", 'text', \"score\", \"url\"]\n",
    "    )"
   ]
  },
  {
   "cell_type": "code",
   "execution_count": 22,
   "metadata": {
    "collapsed": false
   },
   "outputs": [],
   "source": [
    "def add_subreddit(subr, graph = g):\n",
    "    if subr is None: \n",
    "        return None\n",
    "    srs = graph.nodes.match(\"Subreddit\", id=subr.id)\n",
    "    if len(srs) > 0:\n",
    "        return srs.first()\n",
    "    subreddit = pn.Node(\"Subreddit\", **get_subreddit_dict(subr))\n",
    "    t = graph.begin()\n",
    "    t.create(subreddit)\n",
    "    t.commit()\n",
    "    return subreddit\n",
    "    \n",
    "def add_user(user, graph = g):\n",
    "    if user is None:\n",
    "        return None\n",
    "    usrs = graph.nodes.match(\"User\", name= user.name)\n",
    "    if len(usrs) > 0:\n",
    "        return usrs.first()\n",
    "    user = pn.Node(\"User\", **get_user_dict(user))\n",
    "    db = graph.begin()\n",
    "    db.create(user)\n",
    "    db.commit()\n",
    "    return user\n",
    "    \n",
    "def add_submission(subm, graph = g):\n",
    "    if subm is None:\n",
    "        return\n",
    "    if len(graph.nodes.match(\"Submission\", id=subm.id)) > 0:\n",
    "        return\n",
    "    \n",
    "    subreddit = graph.nodes.match(\"Subreddit\", id=subm.subreddit.id)\n",
    "    if len(subreddit) == 0:\n",
    "        subreddit = add_subreddit(reddit.subreddit(subm.subreddit.display_name))\n",
    "    else:\n",
    "        subreddit = subreddit.first()\n",
    "    \n",
    "    if subm.author is not None:\n",
    "        user = graph.nodes.match(\"User\", name = subm.author.name)\n",
    "        if len(user) == 0:\n",
    "            user = add_user(reddit.redditor(subm.author.name))\n",
    "        else:\n",
    "            user = user.first()\n",
    "    \n",
    "    submission = pn.Node(\"Submission\", **get_submission_dict(subm))\n",
    "    if subm.author is not None:\n",
    "        posted = pn.Relationship(user, \"POSTED\", submission)\n",
    "    posted_on = pn.Relationship(submission, \"POSTED_ON\", subreddit)\n",
    "    db = graph.begin()\n",
    "    db.create(submission)\n",
    "    if subm.author is not None:\n",
    "        db.create(posted)\n",
    "    db.create(posted_on)\n",
    "    db.commit()\n",
    "    return submission\n",
    "\n",
    "def add_comment(comment, graph = g):\n",
    "    if comment is None:\n",
    "        return\n",
    "    if len(graph.nodes.match(\"Comment\", id = comment.id)) > 0:\n",
    "        return\n",
    "    \n",
    "    if comment.author is not None:\n",
    "        user = graph.nodes.match(\"User\", name = comment.author.name)\n",
    "        if len(user) == 0:\n",
    "            user = add_user(reddit.redditor(comment.author.name))\n",
    "        else:\n",
    "            user = user.first()\n",
    "\n",
    "    parent_id = comment.parent_id[3:]\n",
    " \n",
    "    if comment.parent_id == comment.link_id:\n",
    "        parent = graph.nodes.match(\"Submission\", id = parent_id)\n",
    "        if len(parent) == 0:\n",
    "            parent = add_submission(reddit.submission(id = parent_id))\n",
    "        else:\n",
    "            parent = parent.first()\n",
    "    else:\n",
    "        parent = graph.nodes.match(\"Comment\", id = parent_id)\n",
    "        if len(parent) == 0:\n",
    "            parent = add_comment(reddit.comment(id = parent_id))\n",
    "        else:\n",
    "            parent = parent.first()\n",
    "    \n",
    "    c = pn.Node(\"Comment\", **get_comment_dict(comment))\n",
    "    if comment.author is not None:\n",
    "        posted = pn.Relationship(user, \"POSTED\", c)\n",
    "    posted_on = pn.Relationship(c, \"REPLY_TO\", parent)\n",
    "    db = graph.begin()\n",
    "    db.create(c)\n",
    "    if comment.author is not None:\n",
    "        db.create(posted)\n",
    "    db.create(posted_on)\n",
    "    db.commit()\n",
    "    return c"
   ]
  },
  {
   "cell_type": "code",
   "execution_count": 28,
   "metadata": {
    "collapsed": true
   },
   "outputs": [],
   "source": [
    "sf = reddit.subreddit(\"sanfrancisco\")"
   ]
  },
  {
   "cell_type": "code",
   "execution_count": 56,
   "metadata": {
    "collapsed": false
   },
   "outputs": [],
   "source": [
    "srs = g.nodes.match(\"Subreddit\", id=sf.id)"
   ]
  },
  {
   "cell_type": "code",
   "execution_count": 70,
   "metadata": {
    "collapsed": false
   },
   "outputs": [],
   "source": [
    "submission = reddit.submission(url = submissions[3])"
   ]
  },
  {
   "cell_type": "code",
   "execution_count": 11,
   "metadata": {
    "collapsed": false
   },
   "outputs": [],
   "source": [
    "sbs = g.nodes.match(\"Submission\", id=submission.id)"
   ]
  },
  {
   "cell_type": "code",
   "execution_count": 13,
   "metadata": {
    "collapsed": false
   },
   "outputs": [],
   "source": [
    "sb1 = sbs.first()"
   ]
  },
  {
   "cell_type": "code",
   "execution_count": 51,
   "metadata": {
    "collapsed": false
   },
   "outputs": [
    {
     "data": {
      "text/plain": [
       "(_21:Subreddit {created: 1201272790.0, display_name: 'sanfrancisco', id: '2qh3u', subscribers: 147049})"
      ]
     },
     "execution_count": 51,
     "metadata": {},
     "output_type": "execute_result"
    }
   ],
   "source": [
    "add_subreddit(sf)"
   ]
  },
  {
   "cell_type": "code",
   "execution_count": 34,
   "metadata": {
    "collapsed": false
   },
   "outputs": [
    {
     "data": {
      "text/plain": [
       "{'created': 1558659585.0}"
      ]
     },
     "execution_count": 34,
     "metadata": {},
     "output_type": "execute_result"
    }
   ],
   "source": [
    "get_subreddit_dict(sf)"
   ]
  },
  {
   "cell_type": "code",
   "execution_count": 69,
   "metadata": {
    "collapsed": false
   },
   "outputs": [
    {
     "data": {
      "text/plain": [
       "{'id': 'b5kbse',\n",
       " 'url': 'https://www.youtube.com/watch?v=-CQ-sZyFLz4',\n",
       " 'score': 2,\n",
       " 'upvote_ratio': 0.63}"
      ]
     },
     "execution_count": 69,
     "metadata": {},
     "output_type": "execute_result"
    }
   ],
   "source": [
    "get_submission_dict(reddit.submission(url = submissions[3]))"
   ]
  },
  {
   "cell_type": "code",
   "execution_count": 71,
   "metadata": {
    "collapsed": false
   },
   "outputs": [],
   "source": [
    "comments = submission.comments.list()"
   ]
  },
  {
   "cell_type": "code",
   "execution_count": 84,
   "metadata": {
    "collapsed": false
   },
   "outputs": [
    {
     "data": {
      "text/plain": [
       "{'id': 'ejf6xkm', 'score': 1}"
      ]
     },
     "execution_count": 84,
     "metadata": {},
     "output_type": "execute_result"
    }
   ],
   "source": [
    "get_comment_dict(comments[4])"
   ]
  },
  {
   "cell_type": "code",
   "execution_count": 86,
   "metadata": {
    "collapsed": false
   },
   "outputs": [
    {
     "data": {
      "text/plain": [
       "{'id': 'ejf6xkm', 'score': 1}"
      ]
     },
     "execution_count": 86,
     "metadata": {},
     "output_type": "execute_result"
    }
   ],
   "source": [
    "get_comment_dict(reddit.comment(id = \"ejf6xkm\"))"
   ]
  },
  {
   "cell_type": "code",
   "execution_count": 68,
   "metadata": {
    "collapsed": false
   },
   "outputs": [],
   "source": [
    "write_submission(reddit.submission(url = submissions[3]))"
   ]
  },
  {
   "cell_type": "code",
   "execution_count": 123,
   "metadata": {
    "collapsed": false
   },
   "outputs": [
    {
     "name": "stdout",
     "output_type": "stream",
     "text": [
      "instant_michael\n"
     ]
    }
   ],
   "source": [
    "mike = reddit.redditor('instant_michael')\n",
    "print(mike.name)"
   ]
  },
  {
   "cell_type": "code",
   "execution_count": 124,
   "metadata": {
    "collapsed": false
   },
   "outputs": [
    {
     "data": {
      "text/plain": [
       "{'_reddit': <praw.reddit.Reddit at 0x11b382b10>,\n",
       " '_fetched': False,\n",
       " '_listing_use_sort': True,\n",
       " 'name': 'instant_michael'}"
      ]
     },
     "execution_count": 124,
     "metadata": {},
     "output_type": "execute_result"
    }
   ],
   "source": [
    "vars(mike)"
   ]
  },
  {
   "cell_type": "code",
   "execution_count": 130,
   "metadata": {
    "collapsed": false
   },
   "outputs": [],
   "source": [
    "write_submission(db, reddit.submission(url = submissions[2]))"
   ]
  },
  {
   "cell_type": "code",
   "execution_count": 63,
   "metadata": {
    "collapsed": false
   },
   "outputs": [],
   "source": [
    "def write_submission(submission): \n",
    "    # Add submission and subreddit\n",
    "    add_submission(submission)\n",
    "    \n",
    "    # Replace any \"load more comments\"\n",
    "    submission.comments.replace_more(limit = None)\n",
    "    \n",
    "    # Add Comments and Replies\n",
    "    for comment in submission.comments.list():\n",
    "        add_comment(comment)"
   ]
  },
  {
   "cell_type": "code",
   "execution_count": 131,
   "metadata": {
    "collapsed": false
   },
   "outputs": [
    {
     "name": "stderr",
     "output_type": "stream",
     "text": [
      "\n",
      "  0%|          | 0/7 [00:00<?, ?it/s]\u001b[A\n",
      " 14%|█▍        | 1/7 [00:10<01:02, 10.37s/it]\u001b[A\n",
      " 29%|██▊       | 2/7 [02:35<04:13, 50.77s/it]\u001b[A\n",
      " 43%|████▎     | 3/7 [02:48<02:38, 39.55s/it]\u001b[A\n",
      " 57%|█████▋    | 4/7 [03:17<01:48, 36.30s/it]\u001b[A\n",
      " 71%|███████▏  | 5/7 [07:04<03:06, 93.41s/it]\u001b[A\n",
      " 86%|████████▌ | 6/7 [07:28<01:12, 72.71s/it]\u001b[A\n",
      "100%|██████████| 7/7 [07:36<00:00, 65.28s/it]\n"
     ]
    }
   ],
   "source": [
    "for i in tqdm(range(len(submissions))):\n",
    "    write_submission(reddit.submission(url = submissions[i]))"
   ]
  }
 ],
 "metadata": {
  "anaconda-cloud": {},
  "kernelspec": {
   "display_name": "school-choice",
   "language": "python",
   "name": "school-choice"
  },
  "language_info": {
   "codemirror_mode": {
    "name": "ipython",
    "version": 3
   },
   "file_extension": ".py",
   "mimetype": "text/x-python",
   "name": "python",
   "nbconvert_exporter": "python",
   "pygments_lexer": "ipython3",
   "version": "3.7.4"
  }
 },
 "nbformat": 4,
 "nbformat_minor": 1
}
